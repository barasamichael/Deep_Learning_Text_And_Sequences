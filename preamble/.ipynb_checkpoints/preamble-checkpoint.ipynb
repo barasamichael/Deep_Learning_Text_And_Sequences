{
 "cells": [
  {
   "cell_type": "markdown",
   "metadata": {
    "_cell_guid": "b1076dfc-b9ad-4769-8c92-a6c4dae69d19",
    "_uuid": "8f2839f25d086af736a60e9eeb907d3b93b6e0e5"
   },
   "source": [
    "# Deep Learning for Text and Sequences\n",
    "## Preamble\n",
    "\n",
    "This series explores deep-learning models that can process text, timeseries and sequence data in general.\n",
    "\n",
    "### Fundamental Algorithms\n",
    "- Recurrent Neural Networks\n",
    "- One Dimensional(1D) Convnets\n",
    "\n",
    "### Applications of Deep Learning Algorithms Sequence Processing\n",
    "1. Document Classification and Timeseries Classification\n",
    "    - Identifying the author of an article\n",
    "2. Timeseries Comparisons\n",
    "    - Estimating how close two documents are\n",
    "3. Sequence-to-Sequence Learning\n",
    "    - Decoding and English Statement into Swahili\n",
    "4. Sentiment Analysis\n",
    "    - Classifying the sentiment of movie reviews as +ve or -ve\n",
    "5. Timeseries Forecasting\n",
    "    - Predicting the weather at a certain location, given recent weather data\n",
    "   \n",
    "### Our Area of Focus\n",
    "- Sentiment Analysis of the IMDB Dataset\n",
    "- Weather Temperature Forecasting"
   ]
  },
  {
   "cell_type": "markdown",
   "metadata": {},
   "source": [
    "## Working With Text Data\n",
    "Text data is understood either as a __sequence of characters__ or a __sequence of words__, with deep-learning models __just mapping the statistical structure of written language without actually understanding it in a human sense__. \n",
    "This is deemed sufficient in most simple textual tasks.\n",
    "\n",
    "Deep-learning for natural-language processing is <span style = \"color: red;\">___pattern recognition applied to words, sentences and paragraphs___</span>.  \n",
    "Deep-learning models work with __numeric tensors only__.\n",
    "\n",
    "### Discover your Vocabulary\n",
    "1. __Vectorizing__: (in context of text) The process of transforming text into numerical tensors through the following ways:\n",
    "    - Segmenting of text into words, and transforming each word into a vector\n",
    "    - Segmenting of text into characters, and transforming each character into \n",
    "        a vector\n",
    "    - Extracting __n-grams__ of words or characters, and transforming each \n",
    "        n-gram into a vector\n",
    "2. __Tokenizing__: The breaking of text into different units known as __tokens__.\n",
    "3. __N-grams__: Overlapping groups of multiple consecutive words or characters.\n",
    "\n",
    "All text-vectorization processes consist of applying some tokenization and then associating numeric tensors with the generated tokens. These vectors, packed into __sequence tensors__, are fed into deep neural networks.  \n",
    "\n",
    "### Ways to Associate a Vector With a Token\n",
    "- One-hot encoding of tokens\n",
    "- Token embedding (typicaly used exclusively for words and called \n",
    "    word tokenization)\n",
    "\n",
    "## Understanding N-grams and Bags-of-words\n",
    "Word n-grams are <span style = \"color: red;\">__groups of N(or fewer) consecutive words or characters that one can extract from a sentence__</span>.\n",
    "\n",
    "### Examples\n",
    "#### Word-based Bigrams (2-grams)\n",
    "{\"The quick\", \"quick brown\", \"brown fox\", \"fox jumps\", \"jumps over\", \"over the\", \"the lazy\", \"lazy dog\"}\n",
    "\n",
    "#### Word-based Bigrams (3-grams)\n",
    "{\"The\", \"quick\", \"brown\", \"The quick\", \"quick brown\", \"brown fox\",\n",
    " \"The quick brown\", \"quick brown fox\", \"brown fox jumps\", \n",
    " \"fox jumps over\", \"jumps over the\", \"over the lazy\", \"the lazy dog\"}\n",
    " \n",
    "The term bag refers to the fact that one's dealing with a set or link of words/tokens rather than a sequence, i.e., they are in no specific order.  \n",
    "The family of tokenization methods is called __bag-of-words__.\n",
    "\n",
    "Bag of words _tends to be used in shallow language-processing models rather\n",
    "than deep learning models_ because it is not an order-preserving tokenization method.\n",
    "\n",
    "Extracting n-grams is a form of feature engineering, and deep learning replaces this _rigid and brittle approach_ with __hierarchical feature engineering__. It is suitable for lightweight, shallow text-processing models such as __logistic regression__ and __random forests__."
   ]
  },
  {
   "cell_type": "markdown",
   "metadata": {},
   "source": [
    "## Text-Vectorization Processes\n",
    "### One-hot Encoding of Words and Characters\n",
    "It consists of associating a unique integer index with every word and then\n",
    "turning this integer index, _i_ into a binary vector of size _N_ (the size of the vocabulary).  \n",
    "The vector is all zeros except for the _i<sup>th<sup>_ entry, which is 1."
   ]
  },
  {
   "cell_type": "markdown",
   "metadata": {},
   "source": [
    "**Listing 1-1** Word-level one hot encoding"
   ]
  },
  {
   "cell_type": "code",
   "execution_count": 3,
   "metadata": {
    "execution": {
     "iopub.execute_input": "2023-09-23T01:54:02.131984Z",
     "iopub.status.busy": "2023-09-23T01:54:02.131548Z",
     "iopub.status.idle": "2023-09-23T01:54:02.149968Z",
     "shell.execute_reply": "2023-09-23T01:54:02.148564Z",
     "shell.execute_reply.started": "2023-09-23T01:54:02.131950Z"
    }
   },
   "outputs": [
    {
     "name": "stdout",
     "output_type": "stream",
     "text": [
      "Token index:  {'Kenya': 1, 'is': 2, 'a': 3, 'beautiful': 4, 'country': 5, 'To': 6, 'find': 7, 'oneself,': 8, 'you': 9, 'must': 10, 'lose': 11, 'oneself': 12}\n",
      "Initial results array:  [[[0. 0. 0. 0. 0. 0. 0. 0. 0. 0. 0. 0. 0.]\n",
      "  [0. 0. 0. 0. 0. 0. 0. 0. 0. 0. 0. 0. 0.]\n",
      "  [0. 0. 0. 0. 0. 0. 0. 0. 0. 0. 0. 0. 0.]\n",
      "  [0. 0. 0. 0. 0. 0. 0. 0. 0. 0. 0. 0. 0.]\n",
      "  [0. 0. 0. 0. 0. 0. 0. 0. 0. 0. 0. 0. 0.]\n",
      "  [0. 0. 0. 0. 0. 0. 0. 0. 0. 0. 0. 0. 0.]\n",
      "  [0. 0. 0. 0. 0. 0. 0. 0. 0. 0. 0. 0. 0.]\n",
      "  [0. 0. 0. 0. 0. 0. 0. 0. 0. 0. 0. 0. 0.]\n",
      "  [0. 0. 0. 0. 0. 0. 0. 0. 0. 0. 0. 0. 0.]\n",
      "  [0. 0. 0. 0. 0. 0. 0. 0. 0. 0. 0. 0. 0.]]\n",
      "\n",
      " [[0. 0. 0. 0. 0. 0. 0. 0. 0. 0. 0. 0. 0.]\n",
      "  [0. 0. 0. 0. 0. 0. 0. 0. 0. 0. 0. 0. 0.]\n",
      "  [0. 0. 0. 0. 0. 0. 0. 0. 0. 0. 0. 0. 0.]\n",
      "  [0. 0. 0. 0. 0. 0. 0. 0. 0. 0. 0. 0. 0.]\n",
      "  [0. 0. 0. 0. 0. 0. 0. 0. 0. 0. 0. 0. 0.]\n",
      "  [0. 0. 0. 0. 0. 0. 0. 0. 0. 0. 0. 0. 0.]\n",
      "  [0. 0. 0. 0. 0. 0. 0. 0. 0. 0. 0. 0. 0.]\n",
      "  [0. 0. 0. 0. 0. 0. 0. 0. 0. 0. 0. 0. 0.]\n",
      "  [0. 0. 0. 0. 0. 0. 0. 0. 0. 0. 0. 0. 0.]\n",
      "  [0. 0. 0. 0. 0. 0. 0. 0. 0. 0. 0. 0. 0.]]]\n",
      "Final results array:  [[[0. 1. 0. 0. 0. 0. 0. 0. 0. 0. 0. 0. 0.]\n",
      "  [0. 0. 1. 0. 0. 0. 0. 0. 0. 0. 0. 0. 0.]\n",
      "  [0. 0. 0. 1. 0. 0. 0. 0. 0. 0. 0. 0. 0.]\n",
      "  [0. 0. 0. 0. 1. 0. 0. 0. 0. 0. 0. 0. 0.]\n",
      "  [0. 0. 0. 0. 0. 1. 0. 0. 0. 0. 0. 0. 0.]\n",
      "  [0. 0. 0. 0. 0. 0. 0. 0. 0. 0. 0. 0. 0.]\n",
      "  [0. 0. 0. 0. 0. 0. 0. 0. 0. 0. 0. 0. 0.]\n",
      "  [0. 0. 0. 0. 0. 0. 0. 0. 0. 0. 0. 0. 0.]\n",
      "  [0. 0. 0. 0. 0. 0. 0. 0. 0. 0. 0. 0. 0.]\n",
      "  [0. 0. 0. 0. 0. 0. 0. 0. 0. 0. 0. 0. 0.]]\n",
      "\n",
      " [[0. 0. 0. 0. 0. 0. 1. 0. 0. 0. 0. 0. 0.]\n",
      "  [0. 0. 0. 0. 0. 0. 0. 1. 0. 0. 0. 0. 0.]\n",
      "  [0. 0. 0. 0. 0. 0. 0. 0. 1. 0. 0. 0. 0.]\n",
      "  [0. 0. 0. 0. 0. 0. 0. 0. 0. 1. 0. 0. 0.]\n",
      "  [0. 0. 0. 0. 0. 0. 0. 0. 0. 0. 1. 0. 0.]\n",
      "  [0. 0. 0. 0. 0. 0. 0. 0. 0. 0. 0. 1. 0.]\n",
      "  [0. 0. 0. 0. 0. 0. 0. 0. 0. 0. 0. 0. 1.]\n",
      "  [0. 0. 0. 0. 0. 0. 0. 0. 0. 0. 0. 0. 0.]\n",
      "  [0. 0. 0. 0. 0. 0. 0. 0. 0. 0. 0. 0. 0.]\n",
      "  [0. 0. 0. 0. 0. 0. 0. 0. 0. 0. 0. 0. 0.]]]\n"
     ]
    }
   ],
   "source": [
    "import numpy as np\n",
    "\n",
    "# Define a list of text samples\n",
    "samples = [\"Kenya is a beautiful country\", \n",
    "           \"To find oneself, you must lose oneself\"]\n",
    "\n",
    "# Initialize an empty dictionary to store word indices\n",
    "token_index = {}\n",
    "\n",
    "# Tokenize the text samples and create a dictionary of unique \n",
    "# words with integer indices\n",
    "for sample in samples:\n",
    "    for word in sample.split():\n",
    "         # Check if the word is not already in the dictionary\n",
    "        if word not in token_index:\n",
    "            # Add the word to the dictionary with a unique index\n",
    "            token_index[word] = len(token_index) + 1\n",
    "print(\"Token index: \", token_index)\n",
    "\n",
    "# Define the maximum sequence length\n",
    "max_length = 10\n",
    "# Initialize a NumPy array for one-hot encoding with appropriate dimensions\n",
    "results = np.zeros(\n",
    "    shape = (len(samples), max_length, max(token_index.values()) + 1))\n",
    "print(\"Initial results array: \", results)\n",
    "\n",
    "# Iterate over the samples and their indices\n",
    "for i, sample in enumerate(samples):\n",
    "    # Tokenize the sample into words and limit to the maximum sequence length\n",
    "    for j, word in list(enumerate(sample.split()))[:max_length]:\n",
    "        # Get the index of the word from the dictionary\n",
    "        index = token_index.get(word)\n",
    "        # Set the corresponding element in the results array to 1\n",
    "        results[i, j, index] = 1\n",
    "print(\"Final results array: \", results)"
   ]
  },
  {
   "cell_type": "markdown",
   "metadata": {},
   "source": [
    "**Listing 1-2.** Character-level one-hot encoding (toy example)"
   ]
  },
  {
   "cell_type": "code",
   "execution_count": 4,
   "metadata": {
    "execution": {
     "iopub.execute_input": "2023-09-23T02:00:19.607317Z",
     "iopub.status.busy": "2023-09-23T02:00:19.606878Z",
     "iopub.status.idle": "2023-09-23T02:00:19.618537Z",
     "shell.execute_reply": "2023-09-23T02:00:19.617242Z",
     "shell.execute_reply.started": "2023-09-23T02:00:19.607284Z"
    }
   },
   "outputs": [
    {
     "name": "stdout",
     "output_type": "stream",
     "text": [
      "Token index dict: \n",
      " {1: '0', 2: '1', 3: '2', 4: '3', 5: '4', 6: '5', 7: '6', 8: '7', 9: '8', 10: '9', 11: 'a', 12: 'b', 13: 'c', 14: 'd', 15: 'e', 16: 'f', 17: 'g', 18: 'h', 19: 'i', 20: 'j', 21: 'k', 22: 'l', 23: 'm', 24: 'n', 25: 'o', 26: 'p', 27: 'q', 28: 'r', 29: 's', 30: 't', 31: 'u', 32: 'v', 33: 'w', 34: 'x', 35: 'y', 36: 'z', 37: 'A', 38: 'B', 39: 'C', 40: 'D', 41: 'E', 42: 'F', 43: 'G', 44: 'H', 45: 'I', 46: 'J', 47: 'K', 48: 'L', 49: 'M', 50: 'N', 51: 'O', 52: 'P', 53: 'Q', 54: 'R', 55: 'S', 56: 'T', 57: 'U', 58: 'V', 59: 'W', 60: 'X', 61: 'Y', 62: 'Z', 63: '!', 64: '\"', 65: '#', 66: '$', 67: '%', 68: '&', 69: \"'\", 70: '(', 71: ')', 72: '*', 73: '+', 74: ',', 75: '-', 76: '.', 77: '/', 78: ':', 79: ';', 80: '<', 81: '=', 82: '>', 83: '?', 84: '@', 85: '[', 86: '\\\\', 87: ']', 88: '^', 89: '_', 90: '`', 91: '{', 92: '|', 93: '}', 94: '~', 95: ' ', 96: '\\t', 97: '\\n', 98: '\\r', 99: '\\x0b', 100: '\\x0c'}\n",
      "Initial results array: \n",
      " [[[0. 0. 0. ... 0. 0. 0.]\n",
      "  [0. 0. 0. ... 0. 0. 0.]\n",
      "  [0. 0. 0. ... 0. 0. 0.]\n",
      "  ...\n",
      "  [0. 0. 0. ... 0. 0. 0.]\n",
      "  [0. 0. 0. ... 0. 0. 0.]\n",
      "  [0. 0. 0. ... 0. 0. 0.]]\n",
      "\n",
      " [[0. 0. 0. ... 0. 0. 0.]\n",
      "  [0. 0. 0. ... 0. 0. 0.]\n",
      "  [0. 0. 0. ... 0. 0. 0.]\n",
      "  ...\n",
      "  [0. 0. 0. ... 0. 0. 0.]\n",
      "  [0. 0. 0. ... 0. 0. 0.]\n",
      "  [0. 0. 0. ... 0. 0. 0.]]]\n",
      "Final results array: \n",
      " [[[1. 1. 1. ... 1. 1. 1.]\n",
      "  [1. 1. 1. ... 1. 1. 1.]\n",
      "  [1. 1. 1. ... 1. 1. 1.]\n",
      "  ...\n",
      "  [0. 0. 0. ... 0. 0. 0.]\n",
      "  [0. 0. 0. ... 0. 0. 0.]\n",
      "  [0. 0. 0. ... 0. 0. 0.]]\n",
      "\n",
      " [[1. 1. 1. ... 1. 1. 1.]\n",
      "  [1. 1. 1. ... 1. 1. 1.]\n",
      "  [1. 1. 1. ... 1. 1. 1.]\n",
      "  ...\n",
      "  [0. 0. 0. ... 0. 0. 0.]\n",
      "  [0. 0. 0. ... 0. 0. 0.]\n",
      "  [0. 0. 0. ... 0. 0. 0.]]]\n"
     ]
    }
   ],
   "source": [
    "import string\n",
    "\n",
    "characters = string.printable\n",
    "token_index = dict(zip(range(1, len(characters) + 1), characters))\n",
    "print(\"Token index dict: \\n\", token_index)\n",
    "\n",
    "max_length = 50\n",
    "results = np.zeros((len(samples), max_length, max(token_index.keys()) + 1))\n",
    "print(\"Initial results array: \\n\", results)\n",
    "\n",
    "for i, sample in enumerate(samples):\n",
    "    for j, character in enumerate(sample):\n",
    "        index = token_index.get(character)\n",
    "        results[i, j, index] = 1\n",
    "print(\"Final results array: \\n\", results)"
   ]
  },
  {
   "cell_type": "markdown",
   "metadata": {},
   "source": [
    "Keras has inbuilt utilities for doing one-hot encoding of text at the word level or \n",
    "character level, starting from raw text data. They do important features such as \n",
    "stripping special characters from strings and only taking into account the _N_ most \n",
    "common words in the dataset.\n",
    "\n",
    "**Listing 1-3.** Using Keras for word-level one-hot encoding"
   ]
  },
  {
   "cell_type": "code",
   "execution_count": 6,
   "metadata": {
    "execution": {
     "iopub.execute_input": "2023-09-23T02:09:17.670148Z",
     "iopub.status.busy": "2023-09-23T02:09:17.669317Z",
     "iopub.status.idle": "2023-09-23T02:09:17.678776Z",
     "shell.execute_reply": "2023-09-23T02:09:17.677663Z",
     "shell.execute_reply.started": "2023-09-23T02:09:17.670097Z"
    }
   },
   "outputs": [
    {
     "name": "stdout",
     "output_type": "stream",
     "text": [
      "Found 11 unique tokens.\n"
     ]
    }
   ],
   "source": [
    "from keras.preprocessing.text import Tokenizer\n",
    "\n",
    "# Create the tokenizer\n",
    "tokenizer = Tokenizer(num_words = 1000)\n",
    "\n",
    "# Build word indices\n",
    "tokenizer.fit_on_texts(samples)\n",
    "\n",
    "# Convert strings into list of integer indices\n",
    "sequences = tokenizer.texts_to_sequences(samples)\n",
    "one_hot_results = tokenizer.texts_to_matrix(samples, mode = 'binary')\n",
    "\n",
    "# Recover word index computed\n",
    "word_index = tokenizer.word_index\n",
    "print(f\"Found {len(word_index)} unique tokens.\")"
   ]
  },
  {
   "attachments": {
    "2d08a494-71b0-4fa4-9be3-d5610d6c0d76.png": {
     "image/png": "[encoded data removed]"
    }
   },
   "cell_type": "markdown",
   "metadata": {},
   "source": [
    "### Using Word Embeddings\n",
    "![image.png](attachment:2d08a494-71b0-4fa4-9be3-d5610d6c0d76.png)  \n",
    "Whereas the vectors obtained through one-hot encoding are __binary__, __sparse__\n",
    "(mostly made out of 0s) and __high-dimensional__, word embeddings are low dimensional, \n",
    "floating-point numbers (that is, dense vectors as opposed to sparse vectors.)\n",
    "\n",
    "Additionally, unlike word vectors learned via one-hot encoding, word embeddings __are \n",
    "learned from data.__\n",
    "\n",
    "#### Ways of Obtaining Word Embeddings\n",
    "1. Learn word embeddings jointly with the main task one cares about - start with random \n",
    "    word vectors and then learn word vectors in the same way one learns weights of a \n",
    "    neural network.\n",
    "2. Load into the model pretrained word embeddings.\n",
    "\n",
    "#### Learning Word Embeddings Using the Embedding Layer\n",
    "The simplest way to associate a dense vector with a word is to choose the vector at \n",
    "random. A drawback is that __the resulting embedding space has no structure__. For instance, \n",
    "the word _accurately_ and exactly may end up with completely different embedding, despite \n",
    "their interchangeability in most sentences.  \n",
    "It is difficult for a neural network to make sense of such noisy, unstructured embedding \n",
    "space.\n",
    "\n",
    "The geometric relationships between word vectors should reflect the semantic relationships \n",
    "between these words. Word embeddings are meant to map human language into a geometric space.  \n",
    "For instance, in a reasonable embedding space, one would expect:\n",
    "- synonymns to be embedded into similar word vectors\n",
    "- geometric distance (such as L2 distance) between any two word vectors to relate to the \n",
    "    semantic distance between associated words\n",
    "- specific direction in the embedding space to be meaningful\n",
    "\n",
    "What makes a good-embedding space depends heavily on the tasks at hand because _the importance\n",
    " of certain semantic relationships varies from task to task_. Therefore, it is reasonable to \n",
    " learn a new embedding space with every new task. Fortunately, backpropagation makes \n",
    " this easy, and Keras makes it even easier - it's about learning the weights of a layer: \n",
    " __the Embedding layer__.\n",
    " \n",
    "**Listing 1-4.** Instantiating an embedding layer"
   ]
  },
  {
   "cell_type": "code",
   "execution_count": 7,
   "metadata": {
    "execution": {
     "iopub.execute_input": "2023-09-23T02:43:51.149978Z",
     "iopub.status.busy": "2023-09-23T02:43:51.149564Z",
     "iopub.status.idle": "2023-09-23T02:43:51.194107Z",
     "shell.execute_reply": "2023-09-23T02:43:51.192544Z",
     "shell.execute_reply.started": "2023-09-23T02:43:51.149947Z"
    }
   },
   "outputs": [],
   "source": [
    "from keras.layers import Embedding\n",
    "embedding_layer = Embedding(1000, 64)"
   ]
  },
  {
   "cell_type": "markdown",
   "metadata": {},
   "source": [
    "The Embedding layer takes at least two arguments:\n",
    "- Number of possible tokens\n",
    "- Dimensionality of the embeddings\n",
    "\n",
    "It is best understood as a dictionary that maps integer indices(which stand for specific \n",
    "words) to dense vectors. It take integers as input, looks up these integers in an internal \n",
    "dictionary and returns the associated vectors. It is effectively a dictionary lookup.\n",
    "\n",
    "The Embedding layer takes as input a __2D tensor of integers__, of __shape(samples, \n",
    "sequence_length)__, where each entry is a sequence of integers.  \n",
    "It can embed sequences of variable lengths with all sequences in a batch having a \n",
    "mandatory equal length because we need to pack them into a single tensor. This can be \n",
    "achieved through padding with zeros for shorter sequences and truncating for longer \n",
    "sequences.\n",
    "\n",
    "The layer returns a __3D floating-point tensor__ of __shape(samples, sequence_length, \n",
    "embedding_dimensionality)__. Such a 3D tensor can then be processed by a __Recurrent \n",
    "Neural Network__ layer of a __One Dimensional(1D) Convolutional__ layer.\n",
    "\n",
    "When one instantiates an Embedding layer, its weights (internal dictionary of token \n",
    "vectors) are initially random akin to any other layer. During training, these word \n",
    "vectors are gradually adjusted via __backpropagation__, structuring the space into\n",
    " something the downstream model can exploit. Once fully trained, the embedding space \n",
    " will show a lot of structure - a kind of structure specialized for the specific \n",
    " problem for which one is training the model."
   ]
  }
 ],
 "metadata": {
  "kernelspec": {
   "display_name": "Python 3 (ipykernel)",
   "language": "python",
   "name": "python3"
  },
  "language_info": {
   "codemirror_mode": {
    "name": "ipython",
    "version": 3
   },
   "file_extension": ".py",
   "mimetype": "text/x-python",
   "name": "python",
   "nbconvert_exporter": "python",
   "pygments_lexer": "ipython3",
   "version": "3.10.12"
  }
 },
 "nbformat": 4,
 "nbformat_minor": 4
}
